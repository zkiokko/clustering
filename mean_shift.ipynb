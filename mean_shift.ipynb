{
  "cells": [
    {
      "cell_type": "code",
      "execution_count": 1,
      "metadata": {
        "id": "5XRCQkQ85jkz"
      },
      "outputs": [],
      "source": [
        "\n",
        "from sklearn.datasets import fetch_openml\n",
        "from sklearn.metrics import silhouette_score\n",
        "import numpy as np\n",
        "import pandas as pd\n",
        "\n",
        "def load_dataset(partition):\n",
        "    X,y = fetch_openml('mnist_784', version=1, return_X_y=True)\n",
        "    y = y.astype(int)[:int(len(X)*partition//1)]\n",
        "    X = X/255\n",
        "    X=X[:int(len(X)*partition//1)]\n",
        "    print(len(X))\n",
        "    return X,y"
      ]
    },
    {
      "cell_type": "code",
      "execution_count": 2,
      "metadata": {
        "colab": {
          "base_uri": "https://localhost:8080/"
        },
        "id": "svhX_Z7-5jkz",
        "outputId": "7c289614-92b5-459c-b7a3-523f87d9316a"
      },
      "outputs": [
        {
          "output_type": "stream",
          "name": "stdout",
          "text": [
            "23100\n"
          ]
        }
      ],
      "source": [
        "from sklearn.decomposition import PCA\n",
        "from sklearn.discriminant_analysis import StandardScaler\n",
        "\n",
        "X,y= load_dataset(.33)"
      ]
    },
    {
      "cell_type": "code",
      "execution_count": 3,
      "metadata": {
        "colab": {
          "base_uri": "https://localhost:8080/",
          "height": 258
        },
        "id": "PvjtSsJn5jk0",
        "outputId": "4ecf7aea-effa-4a53-de48-94bbe84967d8"
      },
      "outputs": [
        {
          "output_type": "stream",
          "name": "stdout",
          "text": [
            "784\n"
          ]
        },
        {
          "output_type": "display_data",
          "data": {
            "text/plain": [
              "<Figure size 640x480 with 1 Axes>"
            ],
            "image/png": "[encoded data removed]"
          },
          "metadata": {}
        }
      ],
      "source": [
        "from matplotlib import pyplot as plt\n",
        "print(len(X.columns))\n",
        "n_components=300\n",
        "pca=PCA(n_components=n_components)\n",
        "pca.fit(X)\n",
        "\n",
        "ks=np.arange(1,n_components+1)\n",
        "plt.plot(ks,np.cumsum(pca.explained_variance_ratio_))\n",
        "Xs=pca.transform(X)"
      ]
    },
    {
      "cell_type": "code",
      "execution_count": 4,
      "metadata": {
        "id": "_m6a9v__5jk0",
        "colab": {
          "base_uri": "https://localhost:8080/",
          "height": 122,
          "referenced_widgets": [
            "ff1f782cd3b84746a51e23ab9082330c",
            "469b0068535e4b548563499d152d88ce",
            "97dd99de0b8740c5a5de07d0b9f97d62",
            "037158b03a3340178a58b9927397fdd1",
            "9e2b220355724022a4b57bca46d3559c",
            "e8c167090c0440b88262935f15f3394b",
            "7b76e52a2f7841029a9732c40790bbb0",
            "5e460c98761c4b90bfaf360b6929b8af",
            "e8d9b38ca3d74de68e27ea97272b8fb3",
            "77805e86021f41b48c895c5176fb80f7",
            "8b8fc755248a4578a0df226653ab4914"
          ]
        },
        "outputId": "eb0beabf-0850-4eba-8b67-3f36b2e6cbb1"
      },
      "outputs": [
        {
          "output_type": "stream",
          "name": "stdout",
          "text": [
            "Mounted at /content/drive\n",
            "[[[np.float64(0.7807461989790229), 20.313251972198486], [np.float64(0.8219635789409373), 16.066773414611816], [np.float64(0.8301444656905932), 17.897910118103027], [np.float64(0.8386819354073348), 16.642107725143433], [np.float64(0.8450130016310371), 16.510042905807495], [np.float64(0.8515987929988537), 19.46735191345215], [np.float64(0.8590619972117006), 19.53036379814148], [np.float64(0.8622064971984882), 15.232056856155396], [np.float64(0.864342434193943), 15.432317972183228], [np.float64(0.8692799167295899), 15.116620540618896], [np.float64(0.8721949245755471), 16.91312861442566]], [[np.float64(0.7151401955332861), 113.73960971832275], [np.float64(0.7932800936454775), 104.96018719673157], [np.float64(0.8152758135553928), 111.12117099761963], [np.float64(0.813605304028266), 117.88130044937134], [np.float64(0.877676056140059), 112.57815527915955], [np.float64(0.8833260561681705), 115.81389832496643], [np.float64(0.88197802832116), 119.85788798332214], [np.float64(0.8811076808669778), 110.90213322639465], [np.float64(0.8960915044953315), 117.16208243370056], [np.float64(0.898838416010588), 116.2021734714508], [np.float64(0.9009166641834723), 114.88876867294312]], [[np.float64(0.7376926232634272), 101.29517698287964], [np.float64(0.8135053915304142), 98.01760244369507], [np.float64(0.8835262222517082), 96.92450022697449], [np.float64(0.906344912140834), 96.73043608665466], [np.float64(0.9045927214479965), 99.78777480125427], [np.float64(0.9169878758267866), 95.9601993560791], [np.float64(0.9217537462032894), 95.77059936523438], [np.float64(0.9374794283742723), 98.97437858581543], [np.float64(0.9325547235136394), 98.15159893035889], [np.float64(0.9318666856326495), 95.47583556175232], [np.float64(0.9270210869119913), 97.9765853881836]], [[np.float64(0.738166716611671), 105.13597393035889], [np.float64(0.8145636296543263), 99.77014708518982], [np.float64(0.88227720733024), 104.32081818580627], [np.float64(0.9057960568372274), 102.8844313621521], [np.float64(0.9179856364539685), 103.90669870376587], [np.float64(0.9162682404684223), 104.17319965362549], [np.float64(0.9204033269932227), 99.8271918296814], [np.float64(0.9377815347415763), 100.9236228466034], [np.float64(0.9333487609984428), 99.57448077201843], [np.float64(0.9325445058714897), 103.34518790245056], [np.float64(0.9277321575923247), 102.94548106193542]], [[np.float64(0.8171082685875534), 107.64008855819702], [np.float64(0.814534532238329), 98.90815234184265], [np.float64(0.8833501871953753), 102.4487943649292], [np.float64(0.903936532174984), 100.25273633003235], [np.float64(0.9158853337666273), 101.13083505630493], [np.float64(0.9200089245069547), 104.25596404075623], [np.float64(0.9189849488433842), 100.1290774345398], [np.float64(0.9130143637334425), 100.394038438797], [np.float64(0.9331836445010175), 103.73499369621277], [np.float64(0.9289266696764857), 103.11593675613403], [np.float64(0.927882584823578), 105.84308767318726]], [[np.float64(0.8194564446765841), 128.8072578907013], [np.float64(0.8139524639754087), 119.66669702529907], [np.float64(0.8771799045291404), 128.47727155685425], [np.float64(0.9023412418858109), 127.50019907951355], [np.float64(0.9147420185915359), 125.96398615837097], [np.float64(0.9205498785671088), 126.6495749950409], [np.float64(0.9185912172881305), 121.74511384963989], [np.float64(0.9133588099707846), 125.08450388908386], [np.float64(0.93314886103838), 122.21380114555359], [np.float64(0.9285129451266514), 125.7194938659668], [np.float64(0.9277195598317725), 127.89058208465576]], [[np.float64(0.8195784491710723), 142.95835661888123], [np.float64(0.8136413244028292), 132.89240097999573], [np.float64(0.8809393521467638), 138.0826337337494], [np.float64(0.9024430697230386), 137.77048873901367], [np.float64(0.9146779315609135), 138.64074397087097], [np.float64(0.9196897075246787), 136.31520414352417], [np.float64(0.9171441390333983), 138.8024091720581], [np.float64(0.9130987661053898), 139.54661321640015], [np.float64(0.9325518448822488), 135.90263414382935], [np.float64(0.9282572454458683), 137.9356508255005], [np.float64(0.9280485371736075), 141.45147395133972]], [[np.float64(0.819013484026688), 125.67430663108826], [np.float64(0.8132723011003457), 118.86602091789246], [np.float64(0.8800825619969306), 125.38783097267151], [np.float64(0.9017008700925754), 122.22027564048767], [np.float64(0.9143914065356552), 123.31487107276917], [np.float64(0.920357673698511), 125.05947256088257], [np.float64(0.917981183571036), 120.26716208457947], [np.float64(0.9131223423963369), 123.05182409286499], [np.float64(0.9328549407790934), 119.58057641983032], [np.float64(0.9282370238099923), 125.60365152359009], [np.float64(0.9244140738837479), 125.38745498657227]], [[np.float64(0.8188115825182365), 112.73613452911377], [np.float64(0.8133159528466685), 107.37004590034485], [np.float64(0.8818211241692777), 110.4405345916748], [np.float64(0.9014541324009266), 107.98574233055115], [np.float64(0.9139773746319484), 129.84584259986877], [np.float64(0.9203495288208913), 133.98684787750244], [np.float64(0.9183427591644397), 130.1376669406891], [np.float64(0.9128461024811516), 129.35601353645325], [np.float64(0.9323389348576586), 126.77415657043457], [np.float64(0.9278067808636231), 131.62825965881348], [np.float64(0.9238631045852138), 131.34247493743896]], [[np.float64(0.8191594808643166), 150.50631761550903], [np.float64(0.8132652019755358), 146.36184787750244], [np.float64(0.8816698573372023), 146.6183454990387], [np.float64(0.9014280785379102), 138.7222921848297], [np.float64(0.9138295224264313), 147.7133870124817], [np.float64(0.9200396523977631), 145.58216285705566], [np.float64(0.9165501102069785), 145.16890740394592], [np.float64(0.9125705260005447), 141.3642861843109], [np.float64(0.9326655995490144), 138.22728180885315], [np.float64(0.9280407371320398), 143.13163661956787], [np.float64(0.9240365608675926), 143.80910730361938]], [[np.float64(0.8193003613844343), 162.60676288604736], [np.float64(0.8135617609802639), 153.41049027442932], [np.float64(0.8791843802762024), 159.89433526992798], [np.float64(0.9011389260118642), 156.05050492286682], [np.float64(0.9134255994665537), 157.59523725509644], [np.float64(0.9196325247115325), 158.06488919258118], [np.float64(0.9161085101602007), 160.65543913841248], [np.float64(0.9124409013789506), 156.35516691207886], [np.float64(0.931938107925813), 154.41404700279236], [np.float64(0.9273843716927833), 159.9274079799652], [np.float64(0.9236162581952443), 160.36263012886047]], [[np.float64(0.8194743873959425), 145.73487329483032], [np.float64(0.8135576341922937), 138.4255826473236], [np.float64(0.8786952603221706), 143.74784326553345], [np.float64(0.9006373657224344), 144.49737358093262], [np.float64(0.9125985814119499), 142.7633445262909], [np.float64(0.9192966319075675), 143.71009922027588], [np.float64(0.915724887548776), 143.60164785385132], [np.float64(0.9118855391689713), 140.7450168132782], [np.float64(0.9315269996321124), 141.67966747283936], [np.float64(0.9266206123126336), 147.53913760185242], [np.float64(0.92265949932429), 146.70562934875488]]]\n",
            "PCA: 210\n"
          ]
        },
        {
          "output_type": "display_data",
          "data": {
            "text/plain": [
              "0it [00:00, ?it/s]"
            ],
            "application/vnd.jupyter.widget-view+json": {
              "version_major": 2,
              "version_minor": 0,
              "model_id": "ff1f782cd3b84746a51e23ab9082330c"
            }
          },
          "metadata": {}
        }
      ],
      "source": [
        "from sklearn.cluster import MeanShift\n",
        "from sklearn.metrics import rand_score\n",
        "from tqdm.notebook import tqdm\n",
        "import csv\n",
        "import time\n",
        "from google.colab import drive\n",
        "drive.mount('/content/drive')\n",
        "path='/content/drive/My Drive/mean_shift.txt'\n",
        "data=[]\n",
        "try:\n",
        "  with open(path,\"r\") as f:\n",
        "      bandwiths=eval(f.readline())\n",
        "      pca_dimension=eval(f.readline())\n",
        "      while(True):\n",
        "        l=f.readline()\n",
        "        if l==\"\": break\n",
        "        if l!=\"\\n\":\n",
        "          data.append(eval(\"[\"+l+\"]\"))\n",
        "      f.close()\n",
        "\n",
        "except:\n",
        "  print(\"no_cache\")\n",
        "  bandwiths=list(np.arange(5,16))\n",
        "  pca_dimension=list(range(10,211,20))\n",
        "  pca_dimension.insert(0,2)\n",
        "  w=open(path,\"w\")\n",
        "  w.writelines(str(bandwiths)+\"\\n\")\n",
        "  w.writelines(str(pca_dimension)+\"\\n\")\n",
        "  w.close()\n",
        "\n",
        "print(data)\n",
        "\n",
        "for i,pc in enumerate(pca_dimension):\n",
        "    if (len(data)-1)>i:continue\n",
        "    pca=PCA(n_components=pc)\n",
        "    pca.fit(X)\n",
        "    Xs=pca.transform(X)\n",
        "    print(\"PCA: \"+str(pc))\n",
        "    for j,n in tqdm(enumerate(bandwiths)):\n",
        "        if len(data)-1==i and len(data[i])>j: continue\n",
        "        sti=time.time()\n",
        "        sc=MeanShift(bandwidth=n, n_jobs=-1)\n",
        "        pred=sc.fit_predict(Xs)\n",
        "        ts=time.time()-sti\n",
        "        res=[rand_score(y,pred),ts,len(set(pred))]\n",
        "        w= open(path,'a')\n",
        "        w.write(str(res)+\" , \")\n",
        "        w.flush()\n",
        "        w.close()\n",
        "        print(\"\\t bandwith: \"+str(n)+\" res: \"+str(res))\n",
        "    w= open(path,'a')\n",
        "    w.write(\"\\n\")\n",
        "    w.close()"
      ]
    }
  ],
  "metadata": {
    "colab": {
      "provenance": []
    },
    "kernelspec": {
      "display_name": "Python 3",
      "language": "python",
      "name": "python3"
    },
    "language_info": {
      "codemirror_mode": {
        "name": "ipython",
        "version": 3
      },
      "file_extension": ".py",
      "mimetype": "text/x-python",
      "name": "python",
      "nbconvert_exporter": "python",
      "pygments_lexer": "ipython3",
      "version": "3.11.0"
    },
    "widgets": {
      "application/vnd.jupyter.widget-state+json": {
        "ff1f782cd3b84746a51e23ab9082330c": {
          "model_module": "@jupyter-widgets/controls",
          "model_name": "HBoxModel",
          "model_module_version": "1.5.0",
          "state": {
            "_dom_classes": [],
            "_model_module": "@jupyter-widgets/controls",
            "_model_module_version": "1.5.0",
            "_model_name": "HBoxModel",
            "_view_count": null,
            "_view_module": "@jupyter-widgets/controls",
            "_view_module_version": "1.5.0",
            "_view_name": "HBoxView",
            "box_style": "",
            "children": [
              "IPY_MODEL_469b0068535e4b548563499d152d88ce",
              "IPY_MODEL_97dd99de0b8740c5a5de07d0b9f97d62",
              "IPY_MODEL_037158b03a3340178a58b9927397fdd1"
            ],
            "layout": "IPY_MODEL_9e2b220355724022a4b57bca46d3559c"
          }
        },
        "469b0068535e4b548563499d152d88ce": {
          "model_module": "@jupyter-widgets/controls",
          "model_name": "HTMLModel",
          "model_module_version": "1.5.0",
          "state": {
            "_dom_classes": [],
            "_model_module": "@jupyter-widgets/controls",
            "_model_module_version": "1.5.0",
            "_model_name": "HTMLModel",
            "_view_count": null,
            "_view_module": "@jupyter-widgets/controls",
            "_view_module_version": "1.5.0",
            "_view_name": "HTMLView",
            "description": "",
            "description_tooltip": null,
            "layout": "IPY_MODEL_e8c167090c0440b88262935f15f3394b",
            "placeholder": "​",
            "style": "IPY_MODEL_7b76e52a2f7841029a9732c40790bbb0",
            "value": ""
          }
        },
        "97dd99de0b8740c5a5de07d0b9f97d62": {
          "model_module": "@jupyter-widgets/controls",
          "model_name": "FloatProgressModel",
          "model_module_version": "1.5.0",
          "state": {
            "_dom_classes": [],
            "_model_module": "@jupyter-widgets/controls",
            "_model_module_version": "1.5.0",
            "_model_name": "FloatProgressModel",
            "_view_count": null,
            "_view_module": "@jupyter-widgets/controls",
            "_view_module_version": "1.5.0",
            "_view_name": "ProgressView",
            "bar_style": "success",
            "description": "",
            "description_tooltip": null,
            "layout": "IPY_MODEL_5e460c98761c4b90bfaf360b6929b8af",
            "max": 1,
            "min": 0,
            "orientation": "horizontal",
            "style": "IPY_MODEL_e8d9b38ca3d74de68e27ea97272b8fb3",
            "value": 1
          }
        },
        "037158b03a3340178a58b9927397fdd1": {
          "model_module": "@jupyter-widgets/controls",
          "model_name": "HTMLModel",
          "model_module_version": "1.5.0",
          "state": {
            "_dom_classes": [],
            "_model_module": "@jupyter-widgets/controls",
            "_model_module_version": "1.5.0",
            "_model_name": "HTMLModel",
            "_view_count": null,
            "_view_module": "@jupyter-widgets/controls",
            "_view_module_version": "1.5.0",
            "_view_name": "HTMLView",
            "description": "",
            "description_tooltip": null,
            "layout": "IPY_MODEL_77805e86021f41b48c895c5176fb80f7",
            "placeholder": "​",
            "style": "IPY_MODEL_8b8fc755248a4578a0df226653ab4914",
            "value": " 11/? [00:00&lt;00:00, 368.62it/s]"
          }
        },
        "9e2b220355724022a4b57bca46d3559c": {
          "model_module": "@jupyter-widgets/base",
          "model_name": "LayoutModel",
          "model_module_version": "1.2.0",
          "state": {
            "_model_module": "@jupyter-widgets/base",
            "_model_module_version": "1.2.0",
            "_model_name": "LayoutModel",
            "_view_count": null,
            "_view_module": "@jupyter-widgets/base",
            "_view_module_version": "1.2.0",
            "_view_name": "LayoutView",
            "align_content": null,
            "align_items": null,
            "align_self": null,
            "border": null,
            "bottom": null,
            "display": null,
            "flex": null,
            "flex_flow": null,
            "grid_area": null,
            "grid_auto_columns": null,
            "grid_auto_flow": null,
            "grid_auto_rows": null,
            "grid_column": null,
            "grid_gap": null,
            "grid_row": null,
            "grid_template_areas": null,
            "grid_template_columns": null,
            "grid_template_rows": null,
            "height": null,
            "justify_content": null,
            "justify_items": null,
            "left": null,
            "margin": null,
            "max_height": null,
            "max_width": null,
            "min_height": null,
            "min_width": null,
            "object_fit": null,
            "object_position": null,
            "order": null,
            "overflow": null,
            "overflow_x": null,
            "overflow_y": null,
            "padding": null,
            "right": null,
            "top": null,
            "visibility": null,
            "width": null
          }
        },
        "e8c167090c0440b88262935f15f3394b": {
          "model_module": "@jupyter-widgets/base",
          "model_name": "LayoutModel",
          "model_module_version": "1.2.0",
          "state": {
            "_model_module": "@jupyter-widgets/base",
            "_model_module_version": "1.2.0",
            "_model_name": "LayoutModel",
            "_view_count": null,
            "_view_module": "@jupyter-widgets/base",
            "_view_module_version": "1.2.0",
            "_view_name": "LayoutView",
            "align_content": null,
            "align_items": null,
            "align_self": null,
            "border": null,
            "bottom": null,
            "display": null,
            "flex": null,
            "flex_flow": null,
            "grid_area": null,
            "grid_auto_columns": null,
            "grid_auto_flow": null,
            "grid_auto_rows": null,
            "grid_column": null,
            "grid_gap": null,
            "grid_row": null,
            "grid_template_areas": null,
            "grid_template_columns": null,
            "grid_template_rows": null,
            "height": null,
            "justify_content": null,
            "justify_items": null,
            "left": null,
            "margin": null,
            "max_height": null,
            "max_width": null,
            "min_height": null,
            "min_width": null,
            "object_fit": null,
            "object_position": null,
            "order": null,
            "overflow": null,
            "overflow_x": null,
            "overflow_y": null,
            "padding": null,
            "right": null,
            "top": null,
            "visibility": null,
            "width": null
          }
        },
        "7b76e52a2f7841029a9732c40790bbb0": {
          "model_module": "@jupyter-widgets/controls",
          "model_name": "DescriptionStyleModel",
          "model_module_version": "1.5.0",
          "state": {
            "_model_module": "@jupyter-widgets/controls",
            "_model_module_version": "1.5.0",
            "_model_name": "DescriptionStyleModel",
            "_view_count": null,
            "_view_module": "@jupyter-widgets/base",
            "_view_module_version": "1.2.0",
            "_view_name": "StyleView",
            "description_width": ""
          }
        },
        "5e460c98761c4b90bfaf360b6929b8af": {
          "model_module": "@jupyter-widgets/base",
          "model_name": "LayoutModel",
          "model_module_version": "1.2.0",
          "state": {
            "_model_module": "@jupyter-widgets/base",
            "_model_module_version": "1.2.0",
            "_model_name": "LayoutModel",
            "_view_count": null,
            "_view_module": "@jupyter-widgets/base",
            "_view_module_version": "1.2.0",
            "_view_name": "LayoutView",
            "align_content": null,
            "align_items": null,
            "align_self": null,
            "border": null,
            "bottom": null,
            "display": null,
            "flex": null,
            "flex_flow": null,
            "grid_area": null,
            "grid_auto_columns": null,
            "grid_auto_flow": null,
            "grid_auto_rows": null,
            "grid_column": null,
            "grid_gap": null,
            "grid_row": null,
            "grid_template_areas": null,
            "grid_template_columns": null,
            "grid_template_rows": null,
            "height": null,
            "justify_content": null,
            "justify_items": null,
            "left": null,
            "margin": null,
            "max_height": null,
            "max_width": null,
            "min_height": null,
            "min_width": null,
            "object_fit": null,
            "object_position": null,
            "order": null,
            "overflow": null,
            "overflow_x": null,
            "overflow_y": null,
            "padding": null,
            "right": null,
            "top": null,
            "visibility": null,
            "width": "20px"
          }
        },
        "e8d9b38ca3d74de68e27ea97272b8fb3": {
          "model_module": "@jupyter-widgets/controls",
          "model_name": "ProgressStyleModel",
          "model_module_version": "1.5.0",
          "state": {
            "_model_module": "@jupyter-widgets/controls",
            "_model_module_version": "1.5.0",
            "_model_name": "ProgressStyleModel",
            "_view_count": null,
            "_view_module": "@jupyter-widgets/base",
            "_view_module_version": "1.2.0",
            "_view_name": "StyleView",
            "bar_color": null,
            "description_width": ""
          }
        },
        "77805e86021f41b48c895c5176fb80f7": {
          "model_module": "@jupyter-widgets/base",
          "model_name": "LayoutModel",
          "model_module_version": "1.2.0",
          "state": {
            "_model_module": "@jupyter-widgets/base",
            "_model_module_version": "1.2.0",
            "_model_name": "LayoutModel",
            "_view_count": null,
            "_view_module": "@jupyter-widgets/base",
            "_view_module_version": "1.2.0",
            "_view_name": "LayoutView",
            "align_content": null,
            "align_items": null,
            "align_self": null,
            "border": null,
            "bottom": null,
            "display": null,
            "flex": null,
            "flex_flow": null,
            "grid_area": null,
            "grid_auto_columns": null,
            "grid_auto_flow": null,
            "grid_auto_rows": null,
            "grid_column": null,
            "grid_gap": null,
            "grid_row": null,
            "grid_template_areas": null,
            "grid_template_columns": null,
            "grid_template_rows": null,
            "height": null,
            "justify_content": null,
            "justify_items": null,
            "left": null,
            "margin": null,
            "max_height": null,
            "max_width": null,
            "min_height": null,
            "min_width": null,
            "object_fit": null,
            "object_position": null,
            "order": null,
            "overflow": null,
            "overflow_x": null,
            "overflow_y": null,
            "padding": null,
            "right": null,
            "top": null,
            "visibility": null,
            "width": null
          }
        },
        "8b8fc755248a4578a0df226653ab4914": {
          "model_module": "@jupyter-widgets/controls",
          "model_name": "DescriptionStyleModel",
          "model_module_version": "1.5.0",
          "state": {
            "_model_module": "@jupyter-widgets/controls",
            "_model_module_version": "1.5.0",
            "_model_name": "DescriptionStyleModel",
            "_view_count": null,
            "_view_module": "@jupyter-widgets/base",
            "_view_module_version": "1.2.0",
            "_view_name": "StyleView",
            "description_width": ""
          }
        }
      }
    }
  },
  "nbformat": 4,
  "nbformat_minor": 0
}