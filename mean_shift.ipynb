{
  "cells": [
    {
      "cell_type": "code",
      "execution_count": null,
      "metadata": {
        "id": "5XRCQkQ85jkz"
      },
      "outputs": [],
      "source": [
        "\n",
        "from sklearn.datasets import fetch_openml\n",
        "from sklearn.metrics import silhouette_score\n",
        "import numpy as np\n",
        "import pandas as pd\n",
        "\n",
        "def load_dataset(partition):\n",
        "    X,y = fetch_openml('mnist_784', version=1, return_X_y=True)\n",
        "    y = y.astype(int)[:int(len(X)*partition//1)]\n",
        "    X = X/255\n",
        "    X=X[:int(len(X)*partition//1)]\n",
        "    print(len(X))\n",
        "    return X,y"
      ]
    },
    {
      "cell_type": "code",
      "execution_count": null,
      "metadata": {
        "colab": {
          "base_uri": "https://localhost:8080/"
        },
        "id": "svhX_Z7-5jkz",
        "outputId": "a700953f-4bcd-490e-ef5f-fc06b3003d0a"
      },
      "outputs": [
        {
          "name": "stdout",
          "output_type": "stream",
          "text": [
            "23100\n"
          ]
        }
      ],
      "source": [
        "from sklearn.decomposition import PCA\n",
        "from sklearn.discriminant_analysis import StandardScaler\n",
        "\n",
        "X,y= load_dataset(.33)"
      ]
    },
    {
      "cell_type": "code",
      "execution_count": null,
      "metadata": {
        "colab": {
          "base_uri": "https://localhost:8080/",
          "height": 447
        },
        "id": "PvjtSsJn5jk0",
        "outputId": "bed81d74-1f7e-4c76-9fa3-f5340104c3c8"
      },
      "outputs": [
        {
          "name": "stdout",
          "output_type": "stream",
          "text": [
            "784\n"
          ]
        },
        {
          "data": {
            "image/png": "[encoded data removed]",
            "text/plain": [
              "<Figure size 640x480 with 1 Axes>"
            ]
          },
          "metadata": {},
          "output_type": "display_data"
        }
      ],
      "source": [
        "from matplotlib import pyplot as plt\n",
        "print(len(X.columns))\n",
        "n_components=300\n",
        "pca=PCA(n_components=n_components)\n",
        "pca.fit(X)\n",
        "\n",
        "ks=np.arange(1,n_components+1)\n",
        "plt.plot(ks,np.cumsum(pca.explained_variance_ratio_))\n",
        "Xs=pca.transform(X)"
      ]
    },
    {
      "cell_type": "code",
      "execution_count": null,
      "metadata": {
        "id": "_m6a9v__5jk0"
      },
      "outputs": [],
      "source": [
        "from sklearn.cluster import MeanShift\n",
        "from sklearn.metrics import rand_score\n",
        "from tqdm.notebook import tqdm\n",
        "import csv\n",
        "import time\n",
        "from google.colab import drive\n",
        "drive.mount('/content/drive')\n",
        "path='/content/drive/My Drive/ms.txt'\n",
        "data=[]\n",
        "try:\n",
        "  with open(path,\"r\") as f:\n",
        "      bandwiths=eval(f.readline())\n",
        "      pca_dimension=eval(f.readline())\n",
        "      while(True):\n",
        "        l=f.readline()\n",
        "        if l==\"\": break\n",
        "        if l!=\"\\n\":\n",
        "          data.append(eval(\"[\"+l+\"]\"))\n",
        "      f.close()\n",
        "\n",
        "except:\n",
        "  print(\"no_cache\")\n",
        "  bandwiths=list(np.arange(5,16))\n",
        "  pca_dimension=list(range(10,211,20))\n",
        "  pca_dimension.insert(0,2)\n",
        "  w=open(path,\"w\")\n",
        "  w.writelines(str(bandwiths)+\"\\n\")\n",
        "  w.writelines(str(pca_dimension)+\"\\n\")\n",
        "  w.close()\n",
        "\n",
        "print(data)\n",
        "\n",
        "for i,pc in enumerate(pca_dimension):\n",
        "    if (len(data)-1)>i:continue\n",
        "    pca=PCA(n_components=pc)\n",
        "    pca.fit(X)\n",
        "    Xs=pca.transform(X)\n",
        "    print(\"PCA: \"+str(pc))\n",
        "    for j,n in tqdm(enumerate(bandwiths)):\n",
        "        if len(data)-1==i and len(data[i])>j: continue\n",
        "        sti=time.time()\n",
        "        sc=MeanShift(bandwidth=n, n_jobs=-1)\n",
        "        pred=sc.fit_predict(Xs)\n",
        "        ts=time.time()-sti\n",
        "        res=[rand_score(y,pred),ts,len(set(pred))]\n",
        "        w= open(path,'a')\n",
        "        w.write(str(res)+\" , \")\n",
        "        w.flush()\n",
        "        w.close()\n",
        "        print(\"\\t bandwith: \"+str(n)+\" res: \"+str(res))\n",
        "    w= open(path,'a')\n",
        "    w.write(\"\\n\")\n",
        "    w.close()"
      ]
    }
  ],
  "metadata": {
    "colab": {
      "provenance": []
    },
    "kernelspec": {
      "display_name": "Python 3",
      "language": "python",
      "name": "python3"
    },
    "language_info": {
      "codemirror_mode": {
        "name": "ipython",
        "version": 3
      },
      "file_extension": ".py",
      "mimetype": "text/x-python",
      "name": "python",
      "nbconvert_exporter": "python",
      "pygments_lexer": "ipython3",
      "version": "3.11.0"
    }
  },
  "nbformat": 4,
  "nbformat_minor": 0
}