{
  "cells": [
    {
      "cell_type": "code",
      "execution_count": 1,
      "metadata": {
        "id": "7ddnRgRumccS"
      },
      "outputs": [],
      "source": [
        "\n",
        "from sklearn.datasets import fetch_openml\n",
        "from sklearn.metrics import silhouette_score\n",
        "from itertools import permutations\n",
        "\n",
        "import numpy as np\n",
        "import pandas as pd\n",
        "\n",
        "def load_dataset():\n",
        "    X,y = fetch_openml('mnist_784', version=1, return_X_y=True)\n",
        "    y = y.astype(int)\n",
        "    X = X/255\n",
        "\n",
        "    print(len(X))\n",
        "    return X,y\n",
        "\n",
        "def sub(X,y,partition):\n",
        "    X=X[:int(len(X)*partition//1)]\n",
        "    y=y[:int(len(y)*partition//1)]\n",
        "    print(len(y))\n",
        "    return X,y"
      ]
    },
    {
      "cell_type": "code",
      "execution_count": 2,
      "metadata": {
        "id": "Z5vXcLunmccT",
        "outputId": "aa9fdd08-d673-4a26-d5ec-e4befee90c3c",
        "colab": {
          "base_uri": "https://localhost:8080/"
        }
      },
      "outputs": [
        {
          "output_type": "stream",
          "name": "stdout",
          "text": [
            "70000\n"
          ]
        }
      ],
      "source": [
        "from sklearn.decomposition import PCA\n",
        "X,y= load_dataset()"
      ]
    },
    {
      "cell_type": "code",
      "execution_count": 3,
      "metadata": {
        "id": "h5k6jcqgGxkn",
        "outputId": "16ee6666-5d4f-4b67-aedd-64da1504cbf2",
        "colab": {
          "base_uri": "https://localhost:8080/"
        }
      },
      "outputs": [
        {
          "output_type": "stream",
          "name": "stdout",
          "text": [
            "17500\n"
          ]
        }
      ],
      "source": [
        "X_t,y_t=sub(X,y,.25)"
      ]
    },
    {
      "cell_type": "code",
      "execution_count": 4,
      "metadata": {
        "colab": {
          "base_uri": "https://localhost:8080/",
          "height": 430
        },
        "id": "z81zZrnNmccU",
        "outputId": "1de91ed9-57d4-4b77-99ab-894c5ba1edb3"
      },
      "outputs": [
        {
          "output_type": "display_data",
          "data": {
            "text/plain": [
              "<Figure size 640x480 with 1 Axes>"
            ],
            "image/png": "[encoded data removed]"
          },
          "metadata": {}
        }
      ],
      "source": [
        "from matplotlib import pyplot as plt\n",
        "\n",
        "n_components=50\n",
        "pca=PCA(n_components=n_components)\n",
        "pca.fit(X_t)\n",
        "ks=np.arange(2,n_components+1)\n",
        "plt.plot(ks,np.cumsum(pca.explained_variance_ratio_)[ks-1])\n",
        "Xs=pca.transform(X_t)\n",
        "\n"
      ]
    },
    {
      "cell_type": "code",
      "execution_count": 5,
      "metadata": {
        "id": "GUxjoEeGGxko"
      },
      "outputs": [],
      "source": [
        "from sklearn.cluster import MeanShift\n",
        "from sklearn.model_selection import GridSearchCV\n",
        "\n",
        "n_jobs=-1\n",
        "\n",
        "param_grid = {\"bandwidth\" : [0.6, 1, 3, 4, 5]}\n",
        "model = GridSearchCV(MeanShift(n_jobs=n_jobs), param_grid, scoring=\"rand_score\", refit=\"rand_score\", n_jobs=n_jobs, cv=5, error_score=\"raise\")"
      ]
    },
    {
      "cell_type": "code",
      "execution_count": null,
      "metadata": {
        "id": "I5zFtaaqGxko",
        "outputId": "900dd368-3178-4360-ca0c-f9eb7442bfce",
        "colab": {
          "base_uri": "https://localhost:8080/"
        }
      },
      "outputs": [
        {
          "metadata": {
            "tags": null
          },
          "name": "stderr",
          "output_type": "stream",
          "text": [
            "\r  0%|          | 0/5 [00:00<?, ?it/s]"
          ]
        }
      ],
      "source": [
        "from time import time\n",
        "from tqdm import tqdm\n",
        "\n",
        "res=[]\n",
        "\n",
        "pca_tune_dims=list(range(10,n_components+1,10))\n",
        "pca_tune=[PCA(n_components=i).fit_transform(X_t) for i in pca_tune_dims]\n",
        "for pci in tqdm(pca_tune):\n",
        "    st=time()\n",
        "    model.fit(pci,y_t)\n",
        "    t=time()-st\n",
        "\n",
        "    best_estimator = model.best_estimator_\n",
        "    best_rand_score = model.best_score_\n",
        "    best_params = model.best_params_\n",
        "    n_cluster=best_estimator.cluster_centers_.shape[0]\n",
        "    print(best_estimator, best_params, best_rand_score, t, n_cluster)\n",
        "    res.append(best_estimator, best_params, best_rand_score, t, n_cluster)\n"
      ]
    },
    {
      "cell_type": "code",
      "execution_count": null,
      "metadata": {
        "id": "2ZjulIIJGxkp"
      },
      "outputs": [],
      "source": [
        "for pci in tqdm(pca_tune):\n",
        "    st=time()\n",
        "    model.fit(pca_tune,y_t)\n",
        "    t=time()-st\n",
        "\n",
        "    best_estimator = model.best_estimator_\n",
        "    best_rand_score = model.best_score_\n",
        "    best_params = model.best_params_\n",
        "    n_cluster=best_estimator.cluster_centers_.shape[0]\n",
        "    print(best_estimator, best_params, best_rand_score, t, n_cluster)\n",
        "    res.append(best_estimator, best_params, best_rand_score, t, n_cluster)"
      ]
    }
  ],
  "metadata": {
    "colab": {
      "provenance": []
    },
    "kernelspec": {
      "display_name": "Python 3",
      "language": "python",
      "name": "python3"
    },
    "language_info": {
      "codemirror_mode": {
        "name": "ipython",
        "version": 3
      },
      "file_extension": ".py",
      "mimetype": "text/x-python",
      "name": "python",
      "nbconvert_exporter": "python",
      "pygments_lexer": "ipython3",
      "version": "3.11.0"
    }
  },
  "nbformat": 4,
  "nbformat_minor": 0
}