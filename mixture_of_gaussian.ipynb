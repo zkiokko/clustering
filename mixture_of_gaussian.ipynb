{
  "cells": [
    {
      "cell_type": "code",
      "execution_count": null,
      "metadata": {
        "id": "5mpI6HKaopxz"
      },
      "outputs": [],
      "source": [
        "cache=\"mg\"\n",
        "def load_prec(filename):\n",
        "    f= open(\"cache/\"+filename+\"_acc.txt\",\"r\")\n",
        "    acc=[(i[:(-1 if len(i)<4 else -2)]).split(\",\") for i in f]\n",
        "    f.close()\n",
        "    f= open(\"cache/\"+filename+\"_acc.txt\",\"r\")\n",
        "    t=[(i[:(-1 if len(i)<4 else -2)]).split(\",\") for i in f]\n",
        "    f.close()\n",
        "    return acc,t\n"
      ]
    },
    {
      "cell_type": "code",
      "execution_count": null,
      "metadata": {
        "id": "5XRCQkQ85jkz"
      },
      "outputs": [],
      "source": [
        "\n",
        "from sklearn.datasets import fetch_openml\n",
        "from sklearn.metrics import silhouette_score\n",
        "import numpy as np\n",
        "import pandas as pd\n",
        "\n",
        "def load_dataset(partition):\n",
        "    X,y = fetch_openml('mnist_784', version=1, return_X_y=True)\n",
        "    y = y.astype(int)[:int(len(X)*partition//1)]\n",
        "    X = X/255\n",
        "    X=X[:int(len(X)*partition//1)]\n",
        "    print(len(X))\n",
        "    return X,y"
      ]
    },
    {
      "cell_type": "code",
      "execution_count": null,
      "metadata": {
        "id": "svhX_Z7-5jkz"
      },
      "outputs": [],
      "source": [
        "from sklearn.decomposition import PCA\n",
        "from sklearn.discriminant_analysis import StandardScaler\n",
        "\n",
        "X,y= load_dataset(.33)"
      ]
    },
    {
      "cell_type": "code",
      "execution_count": null,
      "metadata": {
        "id": "PvjtSsJn5jk0"
      },
      "outputs": [],
      "source": [
        "from matplotlib import pyplot as plt\n",
        "print(len(X.columns))\n",
        "n_components=300\n",
        "pca=PCA(n_components=n_components)\n",
        "pca.fit(X)\n",
        "\n",
        "ks=np.arange(1,n_components+1)\n",
        "plt.plot(ks,np.cumsum(pca.explained_variance_ratio_))\n",
        "Xs=pca.transform(X)"
      ]
    },
    {
      "cell_type": "code",
      "execution_count": null,
      "metadata": {
        "id": "7KMDKO1f5jk0"
      },
      "outputs": [],
      "source": []
    },
    {
      "cell_type": "code",
      "execution_count": null,
      "metadata": {
        "id": "_m6a9v__5jk0"
      },
      "outputs": [],
      "source": [
        "from sklearn.cluster import SpectralClustering\n",
        "from sklearn.metrics import rand_score\n",
        "from tqdm import tqdm\n",
        "import csv\n",
        "import time\n",
        "from google.colab import drive\n",
        "drive.mount('/content/drive')\n",
        "path='/content/drive/My Drive/ms.txt'\n",
        "data=[]\n",
        "try:\n",
        "  with open(path,\"r\") as f:\n",
        "      n_cluster=eval(f.readln())\n",
        "      pca_dimension=eval(f.readln())\n",
        "      while(True):\n",
        "        l=f.readln()\n",
        "        if l==\"\": break\n",
        "        data.append()\n",
        "\n",
        "except:\n",
        "  print(\"no_cache\")\n",
        "  n_cluster=list(np.arange(5,16))\n",
        "  pca_dimension=[10,211,20]\n",
        "  pca_dimension.insert(0,2)\n",
        "  w=open(path,\"w\")\n",
        "  w.writeln(str(n_cluster))\n",
        "  w.writeln(str(pca_dimension))\n",
        "\n",
        "\n",
        "for i,pc in enumerate(pca_dimension):\n",
        "    pca=PCA(n_components=pc)\n",
        "    pca.fit(X)\n",
        "    Xs=pca.transform(X)\n",
        "    for j,n in tqdm(enumerate(n_cluster)):\n",
        "\n",
        "        sti=time.time()\n",
        "        sc=SpectralClustering(n,eigen_tol=0.00002,n_jobs=-1)\n",
        "        pred=sc.fit_predict(Xs)\n",
        "        ts=time.time()-sti\n",
        "        t[i].append(ts)\n",
        "        t_out.write(str(ts)+',')\n",
        "        rs=rand_score(y,pred)\n",
        "        print(rs)\n",
        "        acc_out.write(str(rs)+',')\n",
        "        acc[i].append(rs)\n",
        "        if i>=len(acc)-1 and j==len(n_cluster)-1:\n",
        "            print(\"end_row\")\n",
        "            acc_out.write(\"\\n\")\n",
        "            t_out.write(\"\\n\")\n",
        "        acc_out.close()\n",
        "        t_out.close()\n",
        "\n",
        "    print(acc)"
      ]
    }
  ],
  "metadata": {
    "colab": {
      "provenance": []
    },
    "kernelspec": {
      "display_name": "Python 3",
      "language": "python",
      "name": "python3"
    },
    "language_info": {
      "codemirror_mode": {
        "name": "ipython",
        "version": 3
      },
      "file_extension": ".py",
      "mimetype": "text/x-python",
      "name": "python",
      "nbconvert_exporter": "python",
      "pygments_lexer": "ipython3",
      "version": "3.11.0"
    }
  },
  "nbformat": 4,
  "nbformat_minor": 0
}